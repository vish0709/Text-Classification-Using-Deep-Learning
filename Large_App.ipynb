{
 "cells": [
  {
   "cell_type": "code",
   "execution_count": null,
   "metadata": {},
   "outputs": [],
   "source": [
    "import numpy as np\n",
    "import pandas as pd"
   ]
  },
  {
   "cell_type": "code",
   "execution_count": null,
   "metadata": {},
   "outputs": [],
   "source": [
    "import keras"
   ]
  },
  {
   "cell_type": "code",
   "execution_count": null,
   "metadata": {},
   "outputs": [],
   "source": [
    "from keras.preprocessing.sequence import pad_sequences"
   ]
  },
  {
   "cell_type": "code",
   "execution_count": null,
   "metadata": {},
   "outputs": [],
   "source": [
    "from keras.preprocessing.text import Tokenizer\n",
    "from keras.models import Sequential\n",
    "from keras.layers import Dense, Activation, Embedding, Dropout, SpatialDropout1D\n",
    "from keras.layers import LSTM, Conv1D, MaxPooling1D\n",
    "from sklearn.model_selection import train_test_split"
   ]
  },
  {
   "cell_type": "code",
   "execution_count": null,
   "metadata": {},
   "outputs": [],
   "source": [
    "csv = pd.read_csv('data.csv', encoding = \"ISO-8859-1\", header=None)"
   ]
  },
  {
   "cell_type": "code",
   "execution_count": null,
   "metadata": {},
   "outputs": [],
   "source": [
    "X, Y = [], []\n",
    "\n",
    "for index, row in csv.iterrows():\n",
    "    X.append(row[5])\n",
    "    y_part = row[0]\n",
    "    if y_part == 0:\n",
    "        yy = np.array([0])\n",
    "    elif y_part == 4:\n",
    "        yy = np.array([1])\n",
    "    else:\n",
    "        raise Exception('Invalid y_part value=' + y_part)\n",
    "    Y.append(yy)"
   ]
  },
  {
   "cell_type": "code",
   "execution_count": null,
   "metadata": {},
   "outputs": [],
   "source": [
    "max_features = 50000\n",
    "tokenizer = Tokenizer(num_words=max_features)\n",
    "tokenizer.fit_on_texts(X)\n",
    "X = tokenizer.texts_to_sequences(X)\n",
    "X = pad_sequences(X)\n",
    "X, Xt, Y, Yt = train_test_split(X, Y, test_size = 0.3, random_state = random_seed)\n",
    "\n",
    "validation_size = 1500\n",
    "X_validate = Xt[-validation_size:]\n",
    "Y_validate = Yt[-validation_size:]\n",
    "Xt = Xt[:-validation_size]\n",
    "Yt = Yt[:-validation_size]\n",
    "\n",
    "maxlen = 0\n",
    "def wrap_array(x, maxlen):\n",
    "    for index in range(len(x)):\n",
    "        xx = x[index]\n",
    "        if len(xx) > maxlen:\n",
    "            maxlen = len(xx)\n",
    "        x[index] = np.array(xx)\n",
    "    return np.array(x), maxlen\n",
    "\n",
    "X, maxlen = wrap_array(X, maxlen)\n",
    "Xt, maxlen = wrap_array(Xt, maxlen)\n",
    "X_validate, maxlen = wrap_array(X_validate, maxlen)\n",
    "Y, maxlen = wrap_array(Y, maxlen)\n",
    "Yt, maxlen = wrap_array(Yt, maxlen)\n",
    "Y_validate, maxlen = wrap_array(Y_validate, maxlen)\n",
    "\n",
    "print(\"Completed...\")"
   ]
  },
  {
   "cell_type": "code",
   "execution_count": null,
   "metadata": {},
   "outputs": [],
   "source": [
    "print(maxlen)"
   ]
  },
  {
   "cell_type": "code",
   "execution_count": null,
   "metadata": {},
   "outputs": [],
   "source": [
    "print('Model Building...')\n",
    "\n",
    "batch_size = 256\n",
    "\n",
    "model = Sequential()\n",
    "model.add(Embedding(max_features, 128, input_length=maxlen))\n",
    "model.add(SpatialDropout1D(0.2))\n",
    "model.add(Conv1D(filters=32, kernel_size=3, padding='same', activation='relu'))\n",
    "model.add(MaxPooling1D(pool_size=2))\n",
    "model.add(LSTM(124, dropout=0.2, recurrent_dropout=0.2))\n",
    "model.add(Dense(1))\n",
    "model.add(Activation('sigmoid'))\n",
    "\n",
    "model.compile(loss='binary_crossentropy',\n",
    "              optimizer='nadam',\n",
    "              metrics=['accuracy'])\n",
    "print(model.summary())\n",
    "\n",
    "print('Train...')\n",
    "model.fit(X, Y, batch_size=batch_size, epochs=2, validation_data=(Xt, Yt), verbose=2)\n",
    "\n",
    "\n",
    "score, acc = model.evaluate(X_validate, Y_validate, batch_size=batch_size)\n",
    "print('Test score:', score)\n",
    "print('Test accuracy:', acc)"
   ]
  },
  {
   "cell_type": "code",
   "execution_count": null,
   "metadata": {},
   "outputs": [],
   "source": [
    "import pickle\n",
    "with open('trained_model','wb') as f:\n",
    "    pickle.dump(model,f)"
   ]
  },
  {
   "cell_type": "code",
   "execution_count": null,
   "metadata": {},
   "outputs": [],
   "source": [
    "from sklearn.externals import joblib \n",
    "model = joblib.load('trained_model')"
   ]
  },
  {
   "cell_type": "code",
   "execution_count": null,
   "metadata": {},
   "outputs": [],
   "source": [
    "print('Prediction:')\n",
    "#text = \"This is a presidential decree that Rada's defence committee approved and suggested MPs to support. As some MPs write, there is no agreement on a restriction of certain freedoms(frdm of assembly among them). They also want it written down that elections will take place on March 31\"\n",
    "#text = \"\"\"The sheer ineptitude of the movie is supposed to be funny, but there's no lunacy behind it: Shore and his writers are like comedians on Prozac, smiling through the fart jokes without a hint of desperation\"\"\"\n",
    "text = 'this is not good'\n",
    "print(text)\n",
    "tokens = tokenizer.texts_to_sequences([text])\n",
    "tokens = pad_sequences(tokens, maxlen=maxlen)\n",
    "sentiment = model.predict(np.array(tokens), batch_size=1, verbose = 2)[0][0]\n",
    "print(sentiment)\n",
    "print('Sentiment =', sentiment*100)\n",
    "\n",
    "if (round(sentiment) == 0):\n",
    "    print('Negative')\n",
    "else:\n",
    "    print('Positive')"
   ]
  },
  {
   "cell_type": "code",
   "execution_count": null,
   "metadata": {},
   "outputs": [],
   "source": []
  }
 ],
 "metadata": {
  "kernelspec": {
   "display_name": "Python 3",
   "language": "python",
   "name": "python3"
  },
  "language_info": {
   "codemirror_mode": {
    "name": "ipython",
    "version": 3
   },
   "file_extension": ".py",
   "mimetype": "text/x-python",
   "name": "python",
   "nbconvert_exporter": "python",
   "pygments_lexer": "ipython3",
   "version": "3.7.3"
  }
 },
 "nbformat": 4,
 "nbformat_minor": 2
}
